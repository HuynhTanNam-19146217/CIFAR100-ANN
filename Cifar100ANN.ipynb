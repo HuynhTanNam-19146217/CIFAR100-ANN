{
  "nbformat": 4,
  "nbformat_minor": 0,
  "metadata": {
    "colab": {
      "name": "Cifar100ANN.ipynb",
      "provenance": [],
      "collapsed_sections": [],
      "authorship_tag": "ABX9TyPVhH8b5rXzcLjuvJqeClbq",
      "include_colab_link": true
    },
    "kernelspec": {
      "name": "python3",
      "display_name": "Python 3"
    },
    "language_info": {
      "name": "python"
    }
  },
  "cells": [
    {
      "cell_type": "markdown",
      "metadata": {
        "id": "view-in-github",
        "colab_type": "text"
      },
      "source": [
        "<a href=\"https://colab.research.google.com/github/HuynhTanNam-19146217/CIFAR100-ANN/blob/CODE/Cifar100ANN.ipynb\" target=\"_parent\"><img src=\"https://colab.research.google.com/assets/colab-badge.svg\" alt=\"Open In Colab\"/></a>"
      ]
    },
    {
      "cell_type": "code",
      "execution_count": null,
      "metadata": {
        "id": "0vn_RcnLnOsn"
      },
      "outputs": [],
      "source": [
        "from keras.layers.core.flatten import Flatten\n",
        "from keras.datasets import cifar100\n",
        "import matplotlib.pyplot as plt\n",
        "from keras.utils import np_utils\n",
        "from keras.datasets import mnist\n",
        "from keras.models import Sequential\n",
        "from keras.layers import Dense,Dropout\n",
        "from sklearn.preprocessing import scale\n",
        "from keras.layers import Activation#Dense la tao ra, ket noi phan tu\n",
        "from tensorflow.keras.optimizers import RMSprop,Adam\n",
        "import numpy as np\n",
        "from keras.callbacks import EarlyStopping"
      ]
    },
    {
      "cell_type": "code",
      "source": [
        "(x_train,y_train),(x_test,y_test)=cifar100.load_data()"
      ],
      "metadata": {
        "id": "RJ9OJimnnQ1q"
      },
      "execution_count": null,
      "outputs": []
    },
    {
      "cell_type": "code",
      "source": [
        "(x_train,y_train),(x_test,y_test)\n",
        "print(x_train.shape)\n",
        "print(y_train.shape)\n",
        "print(x_test.shape)\n",
        "print(y_test.shape)"
      ],
      "metadata": {
        "colab": {
          "base_uri": "https://localhost:8080/"
        },
        "id": "NVk1u32Xnbsd",
        "outputId": "8446f6f1-edad-45e7-912a-b1c3fce61c6d"
      },
      "execution_count": null,
      "outputs": [
        {
          "output_type": "stream",
          "name": "stdout",
          "text": [
            "(50000, 32, 32, 3)\n",
            "(50000, 1)\n",
            "(10000, 32, 32, 3)\n",
            "(10000, 1)\n"
          ]
        }
      ]
    },
    {
      "cell_type": "code",
      "source": [
        "\n",
        "x_pre = x_test[0]\n",
        "y_pre = y_test[0]\n",
        "\n",
        "x_train = x_train.reshape(x_train.shape[0], -1)\n",
        "x_test = x_test.reshape(x_test.shape[0], -1)\n",
        "\n",
        "x_train = x_train.astype('float32')\n",
        "x_test = x_test.astype('float32')\n",
        "x_train /= 255\n",
        "x_test /= 255\n",
        "\n",
        "y_train = np_utils.to_categorical(y_train, 100)\n",
        "y_test = np_utils.to_categorical(y_test, 100)\n",
        "x_train.shape"
      ],
      "metadata": {
        "colab": {
          "base_uri": "https://localhost:8080/"
        },
        "id": "VQnQ2YLanxlV",
        "outputId": "d6a9d476-71b4-4ba6-eca0-71c8b378a826"
      },
      "execution_count": null,
      "outputs": [
        {
          "output_type": "execute_result",
          "data": {
            "text/plain": [
              "(50000, 3072)"
            ]
          },
          "metadata": {},
          "execution_count": 5
        }
      ]
    },
    {
      "cell_type": "code",
      "source": [
        "model = Sequential()\n",
        "model.add(Dense(256, activation='relu', input_shape = (x_train.shape[1],)))\n",
        "model.add(Dropout(0.2))\n",
        "model.add(Dense(256,activation='relu'))\n",
        "model.add(Dropout(0.2))\n",
        "model.add(Dense(256,activation='relu'))\n",
        "model.add(Dropout(0.2))\n",
        "model.add(Dense(100, activation='softmax'))\n",
        "model.summary()"
      ],
      "metadata": {
        "colab": {
          "base_uri": "https://localhost:8080/"
        },
        "id": "Bk6N3MLboUW-",
        "outputId": "36561ad2-edd2-4ce2-f3e1-1bd17424e0f4"
      },
      "execution_count": null,
      "outputs": [
        {
          "output_type": "stream",
          "name": "stdout",
          "text": [
            "Model: \"sequential_2\"\n",
            "_________________________________________________________________\n",
            " Layer (type)                Output Shape              Param #   \n",
            "=================================================================\n",
            " dense_8 (Dense)             (None, 256)               786688    \n",
            "                                                                 \n",
            " dropout_6 (Dropout)         (None, 256)               0         \n",
            "                                                                 \n",
            " dense_9 (Dense)             (None, 256)               65792     \n",
            "                                                                 \n",
            " dropout_7 (Dropout)         (None, 256)               0         \n",
            "                                                                 \n",
            " dense_10 (Dense)            (None, 256)               65792     \n",
            "                                                                 \n",
            " dropout_8 (Dropout)         (None, 256)               0         \n",
            "                                                                 \n",
            " dense_11 (Dense)            (None, 100)               25700     \n",
            "                                                                 \n",
            "=================================================================\n",
            "Total params: 943,972\n",
            "Trainable params: 943,972\n",
            "Non-trainable params: 0\n",
            "_________________________________________________________________\n"
          ]
        }
      ]
    },
    {
      "cell_type": "code",
      "source": [
        "model.compile(loss='mse', optimizer =Adam(), metrics=['acc'])\n",
        "\n",
        "history = model.fit(x_train, y_train, batch_size = 128, epochs = 100, validation_split = 0.2)"
      ],
      "metadata": {
        "colab": {
          "base_uri": "https://localhost:8080/"
        },
        "id": "7hgYcv_0p6Sn",
        "outputId": "7793096d-07b2-49dd-af64-3b1fd54dadfa"
      },
      "execution_count": null,
      "outputs": [
        {
          "output_type": "stream",
          "name": "stdout",
          "text": [
            "Epoch 1/100\n",
            "313/313 [==============================] - 9s 28ms/step - loss: 0.0099 - acc: 0.0278 - val_loss: 0.0098 - val_acc: 0.0428\n",
            "Epoch 2/100\n",
            "313/313 [==============================] - 9s 28ms/step - loss: 0.0098 - acc: 0.0413 - val_loss: 0.0098 - val_acc: 0.0526\n",
            "Epoch 3/100\n",
            "313/313 [==============================] - 8s 25ms/step - loss: 0.0098 - acc: 0.0512 - val_loss: 0.0097 - val_acc: 0.0656\n",
            "Epoch 4/100\n",
            "313/313 [==============================] - 7s 23ms/step - loss: 0.0097 - acc: 0.0573 - val_loss: 0.0097 - val_acc: 0.0736\n",
            "Epoch 5/100\n",
            "313/313 [==============================] - 8s 27ms/step - loss: 0.0097 - acc: 0.0645 - val_loss: 0.0097 - val_acc: 0.0860\n",
            "Epoch 6/100\n",
            "313/313 [==============================] - 8s 25ms/step - loss: 0.0097 - acc: 0.0674 - val_loss: 0.0096 - val_acc: 0.0840\n",
            "Epoch 7/100\n",
            "313/313 [==============================] - 7s 24ms/step - loss: 0.0097 - acc: 0.0740 - val_loss: 0.0096 - val_acc: 0.1030\n",
            "Epoch 8/100\n",
            "313/313 [==============================] - 7s 23ms/step - loss: 0.0096 - acc: 0.0813 - val_loss: 0.0096 - val_acc: 0.1020\n",
            "Epoch 9/100\n",
            "313/313 [==============================] - 7s 23ms/step - loss: 0.0096 - acc: 0.0819 - val_loss: 0.0096 - val_acc: 0.1093\n",
            "Epoch 10/100\n",
            "313/313 [==============================] - 8s 26ms/step - loss: 0.0096 - acc: 0.0856 - val_loss: 0.0095 - val_acc: 0.1061\n",
            "Epoch 11/100\n",
            "313/313 [==============================] - 8s 24ms/step - loss: 0.0096 - acc: 0.0881 - val_loss: 0.0096 - val_acc: 0.0937\n",
            "Epoch 12/100\n",
            "313/313 [==============================] - 7s 22ms/step - loss: 0.0096 - acc: 0.0893 - val_loss: 0.0095 - val_acc: 0.1223\n",
            "Epoch 13/100\n",
            "313/313 [==============================] - 7s 22ms/step - loss: 0.0096 - acc: 0.0925 - val_loss: 0.0095 - val_acc: 0.1170\n",
            "Epoch 14/100\n",
            "313/313 [==============================] - 7s 22ms/step - loss: 0.0096 - acc: 0.0921 - val_loss: 0.0095 - val_acc: 0.1213\n",
            "Epoch 15/100\n",
            "313/313 [==============================] - 7s 22ms/step - loss: 0.0096 - acc: 0.0949 - val_loss: 0.0095 - val_acc: 0.1244\n",
            "Epoch 16/100\n",
            "313/313 [==============================] - 7s 24ms/step - loss: 0.0096 - acc: 0.1005 - val_loss: 0.0095 - val_acc: 0.1172\n",
            "Epoch 17/100\n",
            "313/313 [==============================] - 7s 22ms/step - loss: 0.0096 - acc: 0.0993 - val_loss: 0.0095 - val_acc: 0.1174\n",
            "Epoch 18/100\n",
            "313/313 [==============================] - 8s 27ms/step - loss: 0.0095 - acc: 0.1024 - val_loss: 0.0094 - val_acc: 0.1324\n",
            "Epoch 19/100\n",
            "313/313 [==============================] - 8s 24ms/step - loss: 0.0095 - acc: 0.1026 - val_loss: 0.0095 - val_acc: 0.1312\n",
            "Epoch 20/100\n",
            "313/313 [==============================] - 8s 25ms/step - loss: 0.0095 - acc: 0.1059 - val_loss: 0.0094 - val_acc: 0.1338\n",
            "Epoch 21/100\n",
            "313/313 [==============================] - 8s 26ms/step - loss: 0.0095 - acc: 0.1072 - val_loss: 0.0094 - val_acc: 0.1277\n",
            "Epoch 22/100\n",
            "313/313 [==============================] - 8s 24ms/step - loss: 0.0095 - acc: 0.1078 - val_loss: 0.0095 - val_acc: 0.1258\n",
            "Epoch 23/100\n",
            "313/313 [==============================] - 8s 24ms/step - loss: 0.0095 - acc: 0.1090 - val_loss: 0.0094 - val_acc: 0.1297\n",
            "Epoch 24/100\n",
            "313/313 [==============================] - 7s 23ms/step - loss: 0.0095 - acc: 0.1105 - val_loss: 0.0094 - val_acc: 0.1356\n",
            "Epoch 25/100\n",
            "313/313 [==============================] - 7s 23ms/step - loss: 0.0095 - acc: 0.1143 - val_loss: 0.0094 - val_acc: 0.1354\n",
            "Epoch 26/100\n",
            "313/313 [==============================] - 7s 23ms/step - loss: 0.0095 - acc: 0.1125 - val_loss: 0.0094 - val_acc: 0.1399\n",
            "Epoch 27/100\n",
            "313/313 [==============================] - 7s 23ms/step - loss: 0.0095 - acc: 0.1144 - val_loss: 0.0094 - val_acc: 0.1336\n",
            "Epoch 28/100\n",
            "313/313 [==============================] - 7s 23ms/step - loss: 0.0095 - acc: 0.1184 - val_loss: 0.0094 - val_acc: 0.1332\n",
            "Epoch 29/100\n",
            "313/313 [==============================] - 8s 25ms/step - loss: 0.0095 - acc: 0.1162 - val_loss: 0.0094 - val_acc: 0.1363\n",
            "Epoch 30/100\n",
            "313/313 [==============================] - 7s 23ms/step - loss: 0.0095 - acc: 0.1170 - val_loss: 0.0094 - val_acc: 0.1341\n",
            "Epoch 31/100\n",
            "313/313 [==============================] - 8s 24ms/step - loss: 0.0095 - acc: 0.1182 - val_loss: 0.0094 - val_acc: 0.1506\n",
            "Epoch 32/100\n",
            "313/313 [==============================] - 8s 24ms/step - loss: 0.0095 - acc: 0.1179 - val_loss: 0.0094 - val_acc: 0.1355\n",
            "Epoch 33/100\n",
            "313/313 [==============================] - 7s 23ms/step - loss: 0.0095 - acc: 0.1218 - val_loss: 0.0094 - val_acc: 0.1390\n",
            "Epoch 34/100\n",
            "313/313 [==============================] - 7s 24ms/step - loss: 0.0095 - acc: 0.1191 - val_loss: 0.0094 - val_acc: 0.1364\n",
            "Epoch 35/100\n",
            "313/313 [==============================] - 8s 25ms/step - loss: 0.0095 - acc: 0.1181 - val_loss: 0.0094 - val_acc: 0.1416\n",
            "Epoch 36/100\n",
            "313/313 [==============================] - 8s 25ms/step - loss: 0.0094 - acc: 0.1242 - val_loss: 0.0094 - val_acc: 0.1405\n",
            "Epoch 37/100\n",
            "313/313 [==============================] - 8s 24ms/step - loss: 0.0094 - acc: 0.1241 - val_loss: 0.0093 - val_acc: 0.1475\n",
            "Epoch 38/100\n",
            "313/313 [==============================] - 7s 23ms/step - loss: 0.0094 - acc: 0.1267 - val_loss: 0.0094 - val_acc: 0.1424\n",
            "Epoch 39/100\n",
            "313/313 [==============================] - 7s 23ms/step - loss: 0.0094 - acc: 0.1234 - val_loss: 0.0094 - val_acc: 0.1368\n",
            "Epoch 40/100\n",
            "313/313 [==============================] - 7s 23ms/step - loss: 0.0094 - acc: 0.1235 - val_loss: 0.0094 - val_acc: 0.1360\n",
            "Epoch 41/100\n",
            "313/313 [==============================] - 7s 23ms/step - loss: 0.0094 - acc: 0.1289 - val_loss: 0.0093 - val_acc: 0.1483\n",
            "Epoch 42/100\n",
            "313/313 [==============================] - 7s 23ms/step - loss: 0.0094 - acc: 0.1280 - val_loss: 0.0094 - val_acc: 0.1343\n",
            "Epoch 43/100\n",
            "313/313 [==============================] - 7s 23ms/step - loss: 0.0094 - acc: 0.1226 - val_loss: 0.0093 - val_acc: 0.1513\n",
            "Epoch 44/100\n",
            "313/313 [==============================] - 7s 23ms/step - loss: 0.0094 - acc: 0.1286 - val_loss: 0.0094 - val_acc: 0.1393\n",
            "Epoch 45/100\n",
            "313/313 [==============================] - 7s 24ms/step - loss: 0.0094 - acc: 0.1264 - val_loss: 0.0093 - val_acc: 0.1490\n",
            "Epoch 46/100\n",
            "313/313 [==============================] - 7s 23ms/step - loss: 0.0094 - acc: 0.1292 - val_loss: 0.0094 - val_acc: 0.1418\n",
            "Epoch 47/100\n",
            "313/313 [==============================] - 8s 24ms/step - loss: 0.0094 - acc: 0.1300 - val_loss: 0.0094 - val_acc: 0.1443\n",
            "Epoch 48/100\n",
            "313/313 [==============================] - 7s 24ms/step - loss: 0.0094 - acc: 0.1282 - val_loss: 0.0094 - val_acc: 0.1395\n",
            "Epoch 49/100\n",
            "313/313 [==============================] - 7s 23ms/step - loss: 0.0094 - acc: 0.1313 - val_loss: 0.0094 - val_acc: 0.1454\n",
            "Epoch 50/100\n",
            "313/313 [==============================] - 7s 24ms/step - loss: 0.0094 - acc: 0.1329 - val_loss: 0.0093 - val_acc: 0.1540\n",
            "Epoch 51/100\n",
            "313/313 [==============================] - 7s 22ms/step - loss: 0.0094 - acc: 0.1326 - val_loss: 0.0093 - val_acc: 0.1531\n",
            "Epoch 52/100\n",
            "313/313 [==============================] - 7s 24ms/step - loss: 0.0094 - acc: 0.1323 - val_loss: 0.0094 - val_acc: 0.1445\n",
            "Epoch 53/100\n",
            "313/313 [==============================] - 8s 24ms/step - loss: 0.0094 - acc: 0.1327 - val_loss: 0.0093 - val_acc: 0.1479\n",
            "Epoch 54/100\n",
            "313/313 [==============================] - 7s 23ms/step - loss: 0.0094 - acc: 0.1300 - val_loss: 0.0093 - val_acc: 0.1506\n",
            "Epoch 55/100\n",
            "313/313 [==============================] - 7s 22ms/step - loss: 0.0094 - acc: 0.1325 - val_loss: 0.0093 - val_acc: 0.1439\n",
            "Epoch 56/100\n",
            "313/313 [==============================] - 8s 25ms/step - loss: 0.0094 - acc: 0.1355 - val_loss: 0.0094 - val_acc: 0.1360\n",
            "Epoch 57/100\n",
            "313/313 [==============================] - 7s 23ms/step - loss: 0.0094 - acc: 0.1332 - val_loss: 0.0093 - val_acc: 0.1542\n",
            "Epoch 58/100\n",
            "313/313 [==============================] - 8s 24ms/step - loss: 0.0094 - acc: 0.1333 - val_loss: 0.0093 - val_acc: 0.1602\n",
            "Epoch 59/100\n",
            "313/313 [==============================] - 7s 24ms/step - loss: 0.0094 - acc: 0.1354 - val_loss: 0.0093 - val_acc: 0.1475\n",
            "Epoch 60/100\n",
            "313/313 [==============================] - 7s 23ms/step - loss: 0.0094 - acc: 0.1349 - val_loss: 0.0093 - val_acc: 0.1501\n",
            "Epoch 61/100\n",
            "313/313 [==============================] - 8s 25ms/step - loss: 0.0094 - acc: 0.1360 - val_loss: 0.0094 - val_acc: 0.1431\n",
            "Epoch 62/100\n",
            "313/313 [==============================] - 8s 24ms/step - loss: 0.0094 - acc: 0.1379 - val_loss: 0.0093 - val_acc: 0.1479\n",
            "Epoch 63/100\n",
            "313/313 [==============================] - 8s 25ms/step - loss: 0.0093 - acc: 0.1382 - val_loss: 0.0093 - val_acc: 0.1522\n",
            "Epoch 64/100\n",
            "313/313 [==============================] - 8s 24ms/step - loss: 0.0094 - acc: 0.1367 - val_loss: 0.0093 - val_acc: 0.1540\n",
            "Epoch 65/100\n",
            "313/313 [==============================] - 7s 24ms/step - loss: 0.0094 - acc: 0.1385 - val_loss: 0.0093 - val_acc: 0.1456\n",
            "Epoch 66/100\n",
            "313/313 [==============================] - 8s 26ms/step - loss: 0.0094 - acc: 0.1374 - val_loss: 0.0093 - val_acc: 0.1583\n",
            "Epoch 67/100\n",
            "313/313 [==============================] - 8s 25ms/step - loss: 0.0094 - acc: 0.1398 - val_loss: 0.0094 - val_acc: 0.1464\n",
            "Epoch 68/100\n",
            "313/313 [==============================] - 8s 27ms/step - loss: 0.0093 - acc: 0.1384 - val_loss: 0.0093 - val_acc: 0.1505\n",
            "Epoch 69/100\n",
            "313/313 [==============================] - 8s 26ms/step - loss: 0.0093 - acc: 0.1417 - val_loss: 0.0093 - val_acc: 0.1516\n",
            "Epoch 70/100\n",
            "313/313 [==============================] - 8s 25ms/step - loss: 0.0093 - acc: 0.1369 - val_loss: 0.0093 - val_acc: 0.1503\n",
            "Epoch 71/100\n",
            "313/313 [==============================] - 8s 26ms/step - loss: 0.0093 - acc: 0.1400 - val_loss: 0.0093 - val_acc: 0.1506\n",
            "Epoch 72/100\n",
            "313/313 [==============================] - 8s 24ms/step - loss: 0.0093 - acc: 0.1385 - val_loss: 0.0093 - val_acc: 0.1527\n",
            "Epoch 73/100\n",
            "313/313 [==============================] - 8s 24ms/step - loss: 0.0093 - acc: 0.1417 - val_loss: 0.0093 - val_acc: 0.1558\n",
            "Epoch 74/100\n",
            "313/313 [==============================] - 8s 25ms/step - loss: 0.0093 - acc: 0.1410 - val_loss: 0.0093 - val_acc: 0.1461\n",
            "Epoch 75/100\n",
            "313/313 [==============================] - 8s 25ms/step - loss: 0.0093 - acc: 0.1396 - val_loss: 0.0093 - val_acc: 0.1559\n",
            "Epoch 76/100\n",
            "313/313 [==============================] - 8s 24ms/step - loss: 0.0093 - acc: 0.1423 - val_loss: 0.0093 - val_acc: 0.1500\n",
            "Epoch 77/100\n",
            "313/313 [==============================] - 8s 24ms/step - loss: 0.0093 - acc: 0.1447 - val_loss: 0.0093 - val_acc: 0.1518\n",
            "Epoch 78/100\n",
            "313/313 [==============================] - 8s 25ms/step - loss: 0.0093 - acc: 0.1407 - val_loss: 0.0093 - val_acc: 0.1519\n",
            "Epoch 79/100\n",
            "313/313 [==============================] - 9s 28ms/step - loss: 0.0093 - acc: 0.1428 - val_loss: 0.0093 - val_acc: 0.1502\n",
            "Epoch 80/100\n",
            "313/313 [==============================] - 8s 25ms/step - loss: 0.0093 - acc: 0.1427 - val_loss: 0.0093 - val_acc: 0.1534\n",
            "Epoch 81/100\n",
            "313/313 [==============================] - 8s 25ms/step - loss: 0.0093 - acc: 0.1429 - val_loss: 0.0093 - val_acc: 0.1550\n",
            "Epoch 82/100\n",
            "313/313 [==============================] - 8s 25ms/step - loss: 0.0093 - acc: 0.1427 - val_loss: 0.0093 - val_acc: 0.1541\n",
            "Epoch 83/100\n",
            "313/313 [==============================] - 8s 25ms/step - loss: 0.0093 - acc: 0.1442 - val_loss: 0.0093 - val_acc: 0.1441\n",
            "Epoch 84/100\n",
            "313/313 [==============================] - 8s 27ms/step - loss: 0.0093 - acc: 0.1420 - val_loss: 0.0093 - val_acc: 0.1595\n",
            "Epoch 85/100\n",
            "313/313 [==============================] - 8s 24ms/step - loss: 0.0093 - acc: 0.1480 - val_loss: 0.0093 - val_acc: 0.1545\n",
            "Epoch 86/100\n",
            "313/313 [==============================] - 8s 25ms/step - loss: 0.0093 - acc: 0.1448 - val_loss: 0.0093 - val_acc: 0.1616\n",
            "Epoch 87/100\n",
            "313/313 [==============================] - 8s 25ms/step - loss: 0.0093 - acc: 0.1455 - val_loss: 0.0093 - val_acc: 0.1617\n",
            "Epoch 88/100\n",
            "313/313 [==============================] - 7s 23ms/step - loss: 0.0093 - acc: 0.1475 - val_loss: 0.0093 - val_acc: 0.1620\n",
            "Epoch 89/100\n",
            "313/313 [==============================] - 8s 25ms/step - loss: 0.0093 - acc: 0.1461 - val_loss: 0.0093 - val_acc: 0.1481\n",
            "Epoch 90/100\n",
            "313/313 [==============================] - 8s 25ms/step - loss: 0.0093 - acc: 0.1464 - val_loss: 0.0093 - val_acc: 0.1573\n",
            "Epoch 91/100\n",
            "313/313 [==============================] - 8s 25ms/step - loss: 0.0093 - acc: 0.1456 - val_loss: 0.0093 - val_acc: 0.1567\n",
            "Epoch 92/100\n",
            "313/313 [==============================] - 7s 23ms/step - loss: 0.0093 - acc: 0.1470 - val_loss: 0.0093 - val_acc: 0.1472\n",
            "Epoch 93/100\n",
            "313/313 [==============================] - 8s 26ms/step - loss: 0.0093 - acc: 0.1464 - val_loss: 0.0093 - val_acc: 0.1580\n",
            "Epoch 94/100\n",
            "313/313 [==============================] - 8s 25ms/step - loss: 0.0093 - acc: 0.1467 - val_loss: 0.0093 - val_acc: 0.1562\n",
            "Epoch 95/100\n",
            "313/313 [==============================] - 7s 23ms/step - loss: 0.0093 - acc: 0.1487 - val_loss: 0.0092 - val_acc: 0.1643\n",
            "Epoch 96/100\n",
            "313/313 [==============================] - 7s 23ms/step - loss: 0.0093 - acc: 0.1470 - val_loss: 0.0093 - val_acc: 0.1565\n",
            "Epoch 97/100\n",
            "313/313 [==============================] - 7s 23ms/step - loss: 0.0093 - acc: 0.1487 - val_loss: 0.0093 - val_acc: 0.1573\n",
            "Epoch 98/100\n",
            "313/313 [==============================] - 8s 24ms/step - loss: 0.0093 - acc: 0.1488 - val_loss: 0.0093 - val_acc: 0.1541\n",
            "Epoch 99/100\n",
            "313/313 [==============================] - 7s 23ms/step - loss: 0.0093 - acc: 0.1482 - val_loss: 0.0092 - val_acc: 0.1641\n",
            "Epoch 100/100\n",
            "313/313 [==============================] - 8s 25ms/step - loss: 0.0093 - acc: 0.1489 - val_loss: 0.0093 - val_acc: 0.1589\n"
          ]
        }
      ]
    },
    {
      "cell_type": "code",
      "source": [
        "model.save('cifar100.h5')"
      ],
      "metadata": {
        "id": "4VOffEGsyy_E"
      },
      "execution_count": null,
      "outputs": []
    },
    {
      "cell_type": "code",
      "source": [
        "from tensorflow.keras.models import load_model\n",
        "model1=load_model('cifar100.h5')"
      ],
      "metadata": {
        "id": "-BAB5k1ky4lh"
      },
      "execution_count": null,
      "outputs": []
    },
    {
      "cell_type": "code",
      "source": [
        "model.evaluate (x_train, y_train)\n",
        "score=model.evaluate(x_test,y_test,verbose=1)\n",
        "print('sai so kiem tra la:',score[0])\n",
        "print('do chinh xac kiem tra la:',score[1])"
      ],
      "metadata": {
        "colab": {
          "base_uri": "https://localhost:8080/"
        },
        "id": "5mihGMsUsYYp",
        "outputId": "7b72bad4-ddc2-4b79-91ae-f9d2a914938c"
      },
      "execution_count": null,
      "outputs": [
        {
          "output_type": "stream",
          "name": "stdout",
          "text": [
            "1563/1563 [==============================] - 7s 4ms/step - loss: 0.0090 - acc: 0.1987\n",
            "313/313 [==============================] - 1s 4ms/step - loss: 0.0093 - acc: 0.1645\n",
            "sai so kiem tra la: 0.00925880391150713\n",
            "do chinh xac kiem tra la: 0.16449999809265137\n"
          ]
        }
      ]
    },
    {
      "cell_type": "code",
      "source": [
        "plt.plot(history.history['acc'])\n",
        "plt.plot(history.history['val_acc'])\n",
        "plt.title('Model Accuracy')\n",
        "plt.ylabel('Accuracy')\n",
        "plt.xlabel('Epochs')\n",
        "plt.legend(['Train','Validation'],loc='upper left')"
      ],
      "metadata": {
        "colab": {
          "base_uri": "https://localhost:8080/",
          "height": 312
        },
        "id": "T5XpXqhdv8vg",
        "outputId": "2e559bff-a8f0-43ce-eecf-88f0320a6ad8"
      },
      "execution_count": null,
      "outputs": [
        {
          "output_type": "execute_result",
          "data": {
            "text/plain": [
              "<matplotlib.legend.Legend at 0x7fb9916508d0>"
            ]
          },
          "metadata": {},
          "execution_count": 52
        },
        {
          "output_type": "display_data",
          "data": {
            "text/plain": [
              "<Figure size 432x288 with 1 Axes>"
            ],
            "image/png": "[encoded data removed]"
          },
          "metadata": {
            "needs_background": "light"
          }
        }
      ]
    },
    {
      "cell_type": "code",
      "source": [
        "cifar_100_Label = ['apple', 'aquarium_fish', 'baby', 'bear', 'beaver', 'bed', 'bee', 'beetle', 'bicycle', 'bottle', 'bowl', 'boy', 'bridge', 'bus', 'butterfly', 'camel', 'can', 'castle', 'caterpillar', 'cattle', 'chair', 'chimpanzee', 'clock', 'cloud', 'cockroach', 'couch', 'crab', 'crocodile', 'cup', 'dinosaur', 'dolphin', 'elephant', 'flatfish', 'forest', 'fox', 'girl', 'hamster', 'house', 'kangaroo', 'keyboard', 'lamp', 'lawn_mower', 'leopard', 'lion', 'lizard', 'lobster', 'man', 'maple_tree', 'motorcycle', 'mountain', 'mouse', 'mushroom', 'oak_tree', 'orange', 'orchid', 'otter', 'palm_tree', 'pear', 'pickup_truck', 'pine_tree', 'plain', 'plate', 'poppy', 'porcupine', 'possum', 'rabbit', 'raccoon', 'ray', 'road', 'rocket', 'rose', 'sea', 'seal', 'shark', 'shrew', 'skunk', 'skyscraper', 'snail', 'snake', 'spider', 'squirrel', 'streetcar', 'sunflower', 'sweet_pepper', 'table', 'tank', 'telephone', 'television', 'tiger', 'tractor', 'train', 'trout', 'tulip', 'turtle', 'wardrobe', 'whale', 'willow_tree', 'wolf', 'woman', 'worm']\n",
        "test = 140\n",
        "plt.title(\" Dự đoán là: \" \n",
        "          + str(cifar_100_Label[np.argmax(model.predict(x_pre.reshape((-1,3072))))]))\n",
        "plt.imshow(x_pre, cmap=plt.get_cmap('gray'))"
      ],
      "metadata": {
        "colab": {
          "base_uri": "https://localhost:8080/",
          "height": 298
        },
        "id": "c9jq8gFWwj_o",
        "outputId": "e5741dbe-5141-4de8-99fd-595d2ee38a62"
      },
      "execution_count": null,
      "outputs": [
        {
          "output_type": "execute_result",
          "data": {
            "text/plain": [
              "<matplotlib.image.AxesImage at 0x7fb99141cc90>"
            ]
          },
          "metadata": {},
          "execution_count": 53
        },
        {
          "output_type": "display_data",
          "data": {
            "text/plain": [
              "<Figure size 432x288 with 1 Axes>"
            ],
            "image/png": "[encoded data removed]"
          },
          "metadata": {
            "needs_background": "light"
          }
        }
      ]
    }
  ]
}